{
 "cells": [
  {
   "cell_type": "code",
   "execution_count": 18,
   "id": "404ca024",
   "metadata": {},
   "outputs": [
    {
     "ename": "RuntimeError",
     "evalue": "The following operation failed in the TorchScript interpreter.\nTraceback of TorchScript (most recent call last):\n  File \"/home/rom42pla/.conda/envs/ml2hp/lib/python3.13/site-packages/torch/nn/modules/container.py\", line 240, in forward\n    def forward(self, input):\n        for module in self:\n            input = module(input)\n                    ~~~~~~ <--- HERE\n        return input\n  File \"/home/rom42pla/.conda/envs/ml2hp/lib/python3.13/site-packages/torchvision/transforms/transforms.py\", line 277, in forward\n            Tensor: Normalized Tensor image.\n        \"\"\"\n        return F.normalize(tensor, self.mean, self.std, self.inplace)\n               ~~~~~~~~~~~ <--- HERE\n  File \"/home/rom42pla/.conda/envs/ml2hp/lib/python3.13/site-packages/torchvision/transforms/functional.py\", line 350, in normalize\n        raise TypeError(f\"img should be Tensor Image. Got {type(tensor)}\")\n\n    return F_t.normalize(tensor, mean=mean, std=std, inplace=inplace)\n           ~~~~~~~~~~~~~ <--- HERE\n  File \"/home/rom42pla/.conda/envs/ml2hp/lib/python3.13/site-packages/torchvision/transforms/_functional_tensor.py\", line 928, in normalize\n    if std.ndim == 1:\n        std = std.view(-1, 1, 1)\n    return tensor.sub_(mean).div_(std)\n           ~~~~~~~~~~~ <--- HERE\nRuntimeError: The size of tensor a (4) must match the size of tensor b (3) at non-singleton dimension 0\n",
     "output_type": "error",
     "traceback": [
      "\u001b[31m---------------------------------------------------------------------------\u001b[39m",
      "\u001b[31mRuntimeError\u001b[39m                              Traceback (most recent call last)",
      "\u001b[36mCell\u001b[39m\u001b[36m \u001b[39m\u001b[32mIn[18]\u001b[39m\u001b[32m, line 11\u001b[39m\n\u001b[32m      9\u001b[39m img_path = \u001b[33m\"\u001b[39m\u001b[33m../../datasets/ml2hp/012/Right_Hand/Call/Vertical/images/001_left.bmp\u001b[39m\u001b[33m\"\u001b[39m\n\u001b[32m     10\u001b[39m img = Image.open(img_path).convert(\u001b[33m\"\u001b[39m\u001b[33mRGBA\u001b[39m\u001b[33m\"\u001b[39m) \u001b[38;5;66;03m# Load the image\u001b[39;00m\n\u001b[32m---> \u001b[39m\u001b[32m11\u001b[39m \u001b[43mpredictor\u001b[49m\u001b[43m.\u001b[49m\u001b[43mset_image\u001b[49m\u001b[43m(\u001b[49m\u001b[43mimg\u001b[49m\u001b[43m)\u001b[49m\n\u001b[32m     13\u001b[39m masks, _, _ = predictor.predict(np.array([[img.width//\u001b[32m2\u001b[39m, img.height//\u001b[32m2\u001b[39m]]), np.array([\u001b[32m1\u001b[39m]))\n\u001b[32m     14\u001b[39m masks = np.transpose(masks, axes=[\u001b[32m1\u001b[39m, \u001b[32m2\u001b[39m, \u001b[32m0\u001b[39m])\n",
      "\u001b[36mFile \u001b[39m\u001b[32m~/.conda/envs/ml2hp/lib/python3.13/site-packages/torch/utils/_contextlib.py:116\u001b[39m, in \u001b[36mcontext_decorator.<locals>.decorate_context\u001b[39m\u001b[34m(*args, **kwargs)\u001b[39m\n\u001b[32m    113\u001b[39m \u001b[38;5;129m@functools\u001b[39m.wraps(func)\n\u001b[32m    114\u001b[39m \u001b[38;5;28;01mdef\u001b[39;00m\u001b[38;5;250m \u001b[39m\u001b[34mdecorate_context\u001b[39m(*args, **kwargs):\n\u001b[32m    115\u001b[39m     \u001b[38;5;28;01mwith\u001b[39;00m ctx_factory():\n\u001b[32m--> \u001b[39m\u001b[32m116\u001b[39m         \u001b[38;5;28;01mreturn\u001b[39;00m \u001b[43mfunc\u001b[49m\u001b[43m(\u001b[49m\u001b[43m*\u001b[49m\u001b[43margs\u001b[49m\u001b[43m,\u001b[49m\u001b[43m \u001b[49m\u001b[43m*\u001b[49m\u001b[43m*\u001b[49m\u001b[43mkwargs\u001b[49m\u001b[43m)\u001b[49m\n",
      "\u001b[36mFile \u001b[39m\u001b[32m~/repos/Leap2_model/_requirements/sam2/sam2/sam2_image_predictor.py:110\u001b[39m, in \u001b[36mSAM2ImagePredictor.set_image\u001b[39m\u001b[34m(self, image)\u001b[39m\n\u001b[32m    107\u001b[39m \u001b[38;5;28;01melse\u001b[39;00m:\n\u001b[32m    108\u001b[39m     \u001b[38;5;28;01mraise\u001b[39;00m \u001b[38;5;167;01mNotImplementedError\u001b[39;00m(\u001b[33m\"\u001b[39m\u001b[33mImage format not supported\u001b[39m\u001b[33m\"\u001b[39m)\n\u001b[32m--> \u001b[39m\u001b[32m110\u001b[39m input_image = \u001b[38;5;28;43mself\u001b[39;49m\u001b[43m.\u001b[49m\u001b[43m_transforms\u001b[49m\u001b[43m(\u001b[49m\u001b[43mimage\u001b[49m\u001b[43m)\u001b[49m\n\u001b[32m    111\u001b[39m input_image = input_image[\u001b[38;5;28;01mNone\u001b[39;00m, ...].to(\u001b[38;5;28mself\u001b[39m.device)\n\u001b[32m    113\u001b[39m \u001b[38;5;28;01massert\u001b[39;00m (\n\u001b[32m    114\u001b[39m     \u001b[38;5;28mlen\u001b[39m(input_image.shape) == \u001b[32m4\u001b[39m \u001b[38;5;129;01mand\u001b[39;00m input_image.shape[\u001b[32m1\u001b[39m] == \u001b[32m3\u001b[39m\n\u001b[32m    115\u001b[39m ), \u001b[33mf\u001b[39m\u001b[33m\"\u001b[39m\u001b[33minput_image must be of size 1x3xHxW, got \u001b[39m\u001b[38;5;132;01m{\u001b[39;00minput_image.shape\u001b[38;5;132;01m}\u001b[39;00m\u001b[33m\"\u001b[39m\n",
      "\u001b[36mFile \u001b[39m\u001b[32m~/repos/Leap2_model/_requirements/sam2/sam2/utils/transforms.py:39\u001b[39m, in \u001b[36mSAM2Transforms.__call__\u001b[39m\u001b[34m(self, x)\u001b[39m\n\u001b[32m     37\u001b[39m \u001b[38;5;28;01mdef\u001b[39;00m\u001b[38;5;250m \u001b[39m\u001b[34m__call__\u001b[39m(\u001b[38;5;28mself\u001b[39m, x):\n\u001b[32m     38\u001b[39m     x = \u001b[38;5;28mself\u001b[39m.to_tensor(x)\n\u001b[32m---> \u001b[39m\u001b[32m39\u001b[39m     \u001b[38;5;28;01mreturn\u001b[39;00m \u001b[38;5;28;43mself\u001b[39;49m\u001b[43m.\u001b[49m\u001b[43mtransforms\u001b[49m\u001b[43m(\u001b[49m\u001b[43mx\u001b[49m\u001b[43m)\u001b[49m\n",
      "\u001b[36mFile \u001b[39m\u001b[32m~/.conda/envs/ml2hp/lib/python3.13/site-packages/torch/nn/modules/module.py:1751\u001b[39m, in \u001b[36mModule._wrapped_call_impl\u001b[39m\u001b[34m(self, *args, **kwargs)\u001b[39m\n\u001b[32m   1749\u001b[39m     \u001b[38;5;28;01mreturn\u001b[39;00m \u001b[38;5;28mself\u001b[39m._compiled_call_impl(*args, **kwargs)  \u001b[38;5;66;03m# type: ignore[misc]\u001b[39;00m\n\u001b[32m   1750\u001b[39m \u001b[38;5;28;01melse\u001b[39;00m:\n\u001b[32m-> \u001b[39m\u001b[32m1751\u001b[39m     \u001b[38;5;28;01mreturn\u001b[39;00m \u001b[38;5;28;43mself\u001b[39;49m\u001b[43m.\u001b[49m\u001b[43m_call_impl\u001b[49m\u001b[43m(\u001b[49m\u001b[43m*\u001b[49m\u001b[43margs\u001b[49m\u001b[43m,\u001b[49m\u001b[43m \u001b[49m\u001b[43m*\u001b[49m\u001b[43m*\u001b[49m\u001b[43mkwargs\u001b[49m\u001b[43m)\u001b[49m\n",
      "\u001b[36mFile \u001b[39m\u001b[32m~/.conda/envs/ml2hp/lib/python3.13/site-packages/torch/nn/modules/module.py:1762\u001b[39m, in \u001b[36mModule._call_impl\u001b[39m\u001b[34m(self, *args, **kwargs)\u001b[39m\n\u001b[32m   1757\u001b[39m \u001b[38;5;66;03m# If we don't have any hooks, we want to skip the rest of the logic in\u001b[39;00m\n\u001b[32m   1758\u001b[39m \u001b[38;5;66;03m# this function, and just call forward.\u001b[39;00m\n\u001b[32m   1759\u001b[39m \u001b[38;5;28;01mif\u001b[39;00m \u001b[38;5;129;01mnot\u001b[39;00m (\u001b[38;5;28mself\u001b[39m._backward_hooks \u001b[38;5;129;01mor\u001b[39;00m \u001b[38;5;28mself\u001b[39m._backward_pre_hooks \u001b[38;5;129;01mor\u001b[39;00m \u001b[38;5;28mself\u001b[39m._forward_hooks \u001b[38;5;129;01mor\u001b[39;00m \u001b[38;5;28mself\u001b[39m._forward_pre_hooks\n\u001b[32m   1760\u001b[39m         \u001b[38;5;129;01mor\u001b[39;00m _global_backward_pre_hooks \u001b[38;5;129;01mor\u001b[39;00m _global_backward_hooks\n\u001b[32m   1761\u001b[39m         \u001b[38;5;129;01mor\u001b[39;00m _global_forward_hooks \u001b[38;5;129;01mor\u001b[39;00m _global_forward_pre_hooks):\n\u001b[32m-> \u001b[39m\u001b[32m1762\u001b[39m     \u001b[38;5;28;01mreturn\u001b[39;00m \u001b[43mforward_call\u001b[49m\u001b[43m(\u001b[49m\u001b[43m*\u001b[49m\u001b[43margs\u001b[49m\u001b[43m,\u001b[49m\u001b[43m \u001b[49m\u001b[43m*\u001b[49m\u001b[43m*\u001b[49m\u001b[43mkwargs\u001b[49m\u001b[43m)\u001b[49m\n\u001b[32m   1764\u001b[39m result = \u001b[38;5;28;01mNone\u001b[39;00m\n\u001b[32m   1765\u001b[39m called_always_called_hooks = \u001b[38;5;28mset\u001b[39m()\n",
      "\u001b[31mRuntimeError\u001b[39m: The following operation failed in the TorchScript interpreter.\nTraceback of TorchScript (most recent call last):\n  File \"/home/rom42pla/.conda/envs/ml2hp/lib/python3.13/site-packages/torch/nn/modules/container.py\", line 240, in forward\n    def forward(self, input):\n        for module in self:\n            input = module(input)\n                    ~~~~~~ <--- HERE\n        return input\n  File \"/home/rom42pla/.conda/envs/ml2hp/lib/python3.13/site-packages/torchvision/transforms/transforms.py\", line 277, in forward\n            Tensor: Normalized Tensor image.\n        \"\"\"\n        return F.normalize(tensor, self.mean, self.std, self.inplace)\n               ~~~~~~~~~~~ <--- HERE\n  File \"/home/rom42pla/.conda/envs/ml2hp/lib/python3.13/site-packages/torchvision/transforms/functional.py\", line 350, in normalize\n        raise TypeError(f\"img should be Tensor Image. Got {type(tensor)}\")\n\n    return F_t.normalize(tensor, mean=mean, std=std, inplace=inplace)\n           ~~~~~~~~~~~~~ <--- HERE\n  File \"/home/rom42pla/.conda/envs/ml2hp/lib/python3.13/site-packages/torchvision/transforms/_functional_tensor.py\", line 928, in normalize\n    if std.ndim == 1:\n        std = std.view(-1, 1, 1)\n    return tensor.sub_(mean).div_(std)\n           ~~~~~~~~~~~ <--- HERE\nRuntimeError: The size of tensor a (4) must match the size of tensor b (3) at non-singleton dimension 0\n"
     ]
    }
   ],
   "source": [
    "import torch\n",
    "import numpy as np\n",
    "from sam2.sam2_image_predictor import SAM2ImagePredictor\n",
    "from PIL import Image\n",
    "\n",
    "predictor = SAM2ImagePredictor.from_pretrained(\"facebook/sam2-hiera-large\")\n",
    "\n",
    "with torch.inference_mode(), torch.autocast(\"cuda\", dtype=torch.bfloat16):\n",
    "    img_path = \"../../datasets/ml2hp/012/Right_Hand/Call/Vertical/images/001_left.bmp\"\n",
    "    img = Image.open(img_path).convert(\"RGBA\") # Load the image\n",
    "    predictor.set_image(img)\n",
    "\n",
    "    masks, _, _ = predictor.predict(np.array([[img.width//2, img.height//2]]), np.array([1]))\n",
    "    masks = np.transpose(masks, axes=[1, 2, 0])\n",
    "    masks = (masks * 255).astype(np.uint8)\n",
    "\n",
    "    print(type(masks), masks.shape)\n",
    "    masks = Image.fromarray(masks).convert(\"L\")\n",
    "    img.putalpha(masks)\n",
    "    img.save(\"masks.png\")"
   ]
  },
  {
   "cell_type": "code",
   "execution_count": null,
   "id": "479e6db4",
   "metadata": {},
   "outputs": [],
   "source": []
  }
 ],
 "metadata": {
  "kernelspec": {
   "display_name": "ml2hp",
   "language": "python",
   "name": "python3"
  },
  "language_info": {
   "codemirror_mode": {
    "name": "ipython",
    "version": 3
   },
   "file_extension": ".py",
   "mimetype": "text/x-python",
   "name": "python",
   "nbconvert_exporter": "python",
   "pygments_lexer": "ipython3",
   "version": "3.13.2"
  }
 },
 "nbformat": 4,
 "nbformat_minor": 5
}
